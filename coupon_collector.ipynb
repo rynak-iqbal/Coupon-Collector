{
  "nbformat": 4,
  "nbformat_minor": 0,
  "metadata": {
    "colab": {
      "provenance": []
    },
    "kernelspec": {
      "name": "python3",
      "display_name": "Python 3"
    },
    "language_info": {
      "name": "python"
    }
  },
  "cells": [
    {
      "cell_type": "code",
      "execution_count": 2,
      "metadata": {
        "id": "-eWfI4x9Ypsw"
      },
      "outputs": [],
      "source": [
        "import random\n",
        "\n",
        "def coupon_collector():\n",
        "  '''()->print\n",
        "  Returns the solution for the coupon collector card problem'''\n",
        "\n",
        "  suits=['Clubs', 'Diamonds', 'Spades', 'Hearts']\n",
        "  cards=['Ace', '1', '2', '3', '4', '5', '6', '7', '8', '9', '10', 'Jack', 'Queen', 'King']\n",
        "  deck=[]\n",
        "  num_picks=0\n",
        "  clubs_count=0\n",
        "  diamonds_count=0\n",
        "  spades_count=0\n",
        "  hearts_count=0\n",
        "\n",
        "  for suit in suits:\n",
        "    for card in cards:\n",
        "      deck.append(card + ' of ' + suit)\n",
        "\n",
        "  random.shuffle(deck)\n",
        "\n",
        "  while True:\n",
        "    pick = deck[0]\n",
        "    num_picks+=1\n",
        "    deck.remove(pick)\n",
        "    deck.append(pick)\n",
        "\n",
        "    if 'Clubs' in pick:\n",
        "      clubs_count+=1\n",
        "      last_club = pick\n",
        "    if 'Diamonds' in pick:\n",
        "      diamonds_count+=1\n",
        "      last_diamond = pick\n",
        "    if 'Spades' in pick:\n",
        "      spades_count+=1\n",
        "      last_spade = pick\n",
        "    if 'Hearts' in pick:\n",
        "      hearts_count+=1\n",
        "      last_heart = pick\n",
        "\n",
        "    if clubs_count >=1 and diamonds_count >=1 and spades_count >=1 and hearts_count >=1:\n",
        "      break\n",
        "\n",
        "  print(last_club)\n",
        "  print(last_diamond)\n",
        "  print(last_spade)\n",
        "  print(last_heart)\n",
        "  print('Number of picks:', num_picks)"
      ]
    },
    {
      "cell_type": "code",
      "source": [
        "coupon_collector()"
      ],
      "metadata": {
        "colab": {
          "base_uri": "https://localhost:8080/"
        },
        "id": "ADUftEECYxRh",
        "outputId": "7614ba16-ffe9-49b4-b790-34eb5877038b"
      },
      "execution_count": 4,
      "outputs": [
        {
          "output_type": "stream",
          "name": "stdout",
          "text": [
            "2 of Clubs\n",
            "1 of Diamonds\n",
            "7 of Spades\n",
            "King of Hearts\n",
            "Number of picks: 6\n"
          ]
        }
      ]
    }
  ]
}